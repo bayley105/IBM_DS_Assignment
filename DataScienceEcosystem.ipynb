{
 "cells": [
  {
   "cell_type": "markdown",
   "id": "4521e518-f7b9-4088-a791-b39844e286b9",
   "metadata": {},
   "source": [
    "# Data Science Tools and Ecosystem"
   ]
  },
  {
   "cell_type": "markdown",
   "id": "7b9c5975-7b5e-4e61-9fa3-caeb3960b048",
   "metadata": {},
   "source": [
    "In this notebook, Data Science Tools and Ecosystem are summarized."
   ]
  },
  {
   "cell_type": "markdown",
   "id": "d47e2792-ae07-4f73-b00d-6fe5ccb7994d",
   "metadata": {},
   "source": [
    "**Objectives:**\n",
    "- List popular languages for Data Science\n",
    "- List commonly used libraries for Data Science\n",
    "- Tediously practice the jupyter notebook markdown system"
   ]
  },
  {
   "cell_type": "markdown",
   "id": "6ed471d7-7cb5-4b66-93b1-67d7d65c5630",
   "metadata": {},
   "source": [
    "Some of the popular languages that Data Scientists use are:\n",
    "1. Python\n",
    "2. R\n",
    "3. Scala"
   ]
  },
  {
   "cell_type": "markdown",
   "id": "3a952939-9252-4602-adbe-5feddc16c1ad",
   "metadata": {},
   "source": [
    "Some of the commonly used libraries used by Data Scientists include:\n",
    "1. Numpy\n",
    "2. Pandas\n",
    "3. Scikit-learn\n"
   ]
  },
  {
   "cell_type": "markdown",
   "id": "fb54b963-80db-4b62-8de0-2a143bbbfb1d",
   "metadata": {},
   "source": [
    "| Data Science Tools |\n",
    "| -------------------|\n",
    "| Jupyter Notebooks|\n",
    "| R Studios |\n",
    "| Visual Studio Code |"
   ]
  },
  {
   "cell_type": "markdown",
   "id": "5fe58070-0ddf-463c-96f4-761405d46bec",
   "metadata": {},
   "source": [
    "### Below are a few examples of evaluating arithmetic expressions in Python."
   ]
  },
  {
   "cell_type": "code",
   "execution_count": 2,
   "id": "f4055df0-a786-4049-ac6e-1858c078106d",
   "metadata": {},
   "outputs": [
    {
     "data": {
      "text/plain": [
       "17"
      ]
     },
     "execution_count": 2,
     "metadata": {},
     "output_type": "execute_result"
    }
   ],
   "source": [
    "# This a simple arithmetic expression to mutiply then add integers\n",
    "(3*4)+5"
   ]
  },
  {
   "cell_type": "code",
   "execution_count": 10,
   "id": "62215d22-35e0-4e91-a12d-eb0ee33b2aa4",
   "metadata": {},
   "outputs": [
    {
     "name": "stdout",
     "output_type": "stream",
     "text": [
      "200 minutes in hours and minutes is 3 hours and 20 minutes\n"
     ]
    }
   ],
   "source": [
    "# We find the hours by dividing by 60 and then rounding down by casting to an int, then we take the modulo \n",
    "# operator to find the remainder for the minutes leftover\n",
    "hours = int(200/60)\n",
    "minutes = 200%60\n",
    "time = \"200 minutes in hours and minutes is {} hours and {} minutes\".format(hours,minutes)\n",
    "print(time)"
   ]
  },
  {
   "cell_type": "markdown",
   "id": "0c7c631e-16c9-47fb-846a-0526e794a0f6",
   "metadata": {},
   "source": [
    "## Author\n",
    "Balyey"
   ]
  },
  {
   "cell_type": "code",
   "execution_count": null,
   "id": "a773a742-b0b7-4adc-b246-aa59ae61d3d5",
   "metadata": {},
   "outputs": [],
   "source": []
  }
 ],
 "metadata": {
  "kernelspec": {
   "display_name": "Python 3 (ipykernel)",
   "language": "python",
   "name": "python3"
  },
  "language_info": {
   "codemirror_mode": {
    "name": "ipython",
    "version": 3
   },
   "file_extension": ".py",
   "mimetype": "text/x-python",
   "name": "python",
   "nbconvert_exporter": "python",
   "pygments_lexer": "ipython3",
   "version": "3.12.3"
  }
 },
 "nbformat": 4,
 "nbformat_minor": 5
}
